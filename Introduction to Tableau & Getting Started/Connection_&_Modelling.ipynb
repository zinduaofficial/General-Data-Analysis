{
  "nbformat": 4,
  "nbformat_minor": 0,
  "metadata": {
    "colab": {
      "provenance": []
    },
    "kernelspec": {
      "name": "python3",
      "display_name": "Python 3"
    },
    "language_info": {
      "name": "python"
    }
  },
  "cells": [
    {
      "cell_type": "markdown",
      "source": [
        "# **Tableau Tutorial: Connecting to Data, Data Cleaning, and Building a Data Model**\n",
        "\n",
        "**1. Connecting to Data**\n",
        "\n",
        "Importance\n",
        "\n",
        "Connecting to data is the foundation of any Tableau project. It allows you to access raw data, transform it, and build visualizations. Properly connecting to data ensures accuracy, efficiency, and scalability."
      ],
      "metadata": {
        "id": "MWNe8nj8l9EC"
      }
    },
    {
      "cell_type": "markdown",
      "source": [
        "![interface](https://jason-khu.com/wp-content/uploads/2022/10/1-1024x640.png)"
      ],
      "metadata": {
        "id": "-piGjyzvmNuM"
      }
    },
    {
      "cell_type": "markdown",
      "source": [
        "**Available Data Sources in Tableau**\n",
        "\n",
        "When launching Tableau, you are presented with various data source options. The common ones include:\n",
        "\n",
        "- Excel Files (Single & Multiple Sheets)\n",
        "- Text Files (CSV, JSON, etc.)\n",
        "- Databases (SQL Server, MySQL, PostgreSQL, etc.)\n",
        "- Cloud Services (Google Sheets, Google BigQuery, AWS, etc.)\n",
        "- Web Data Connectors (APIs, RESTful Services, etc.)\n",
        "\n",
        "**Connecting to Data (Step-by-Step):**\n",
        "\n",
        "- Open Tableau: Launch Tableau Desktop.\n",
        "- Connect Pane: On the left side, you'll see the \"Connect\" pane. Choose your data source type (e.g., Excel, Text file, SQL Server).\n",
        "- Navigate and Select: Browse to your file or enter the connection details for your database.\n",
        "- Drag and Drop (Files): For file-based sources, drag the sheet(s) you want to use into the canvas area.\n",
        "- Custom SQL (Databases): For databases, you can often write custom SQL queries to select specific data. This is helpful for complex data extraction or pre-processing.\n",
        "- Live vs. Extract: Tableau offers two connection modes:\n",
        "\n",
        " -- Live: Queries the data source directly. Changes in the data source are immediately reflected in Tableau. Good for real-time data.\n",
        "\n",
        " -- Extract: Imports a snapshot of the data into Tableau's high-performance data engine (.hyper file). Good for performance with large datasets or offline analysis. Often the preferred method."
      ],
      "metadata": {
        "id": "9T9gZPXPmtvR"
      }
    },
    {
      "cell_type": "markdown",
      "source": [
        "**2. Data Cleaning at Import**\n",
        "\n",
        "**Importance**\n",
        "\n",
        "Cleaning ensures data consistency, removes redundancies, and prepares data for analysis. Dirty data (e.g., nulls, duplicates) can lead to inaccurate insights.\n",
        "\n",
        "**Best Practices**\n",
        "\n",
        "✅ Rename ambiguous fields (e.g., Column1 → Sales_Region).\n",
        "\n",
        "✅ Split columns (e.g., separate Full_Name into First_Name and Last_Name).\n",
        "\n",
        "✅ Filter irrelevant rows (e.g., test entries).\n",
        "\n",
        "✅ Handle missing values (e.g., replace nulls with defaults).\n",
        "\n",
        "**Step-by-Step Flow**\n",
        "\n",
        "**Use Tableau Prep (Recommended):**\n",
        "\n",
        "- Create a flow: Drag data source > Add steps (e.g., Clean, Aggregate).\n",
        "\n",
        "- Pivot Data: Transform wide data to tall format (e.g., months as rows).\n",
        "\n",
        "- Split Fields: Use regex or delimiters to separate text.\n",
        "\n",
        "- Filter Rows: Exclude nulls or outliers.\n",
        "\n",
        "**In Tableau Desktop:**\n",
        "\n",
        "- Right-click a field > Rename/Transform.\n",
        "\n",
        "- Create calculated fields (e.g., Profit Ratio = SUM(Profit)/SUM(Sales)).\n",
        "\n",
        "***Visual Suggestion:***\n",
        "\n",
        "Show a Tableau Prep workflow with cleaning steps.\n",
        "\n",
        "Compare raw vs. cleaned data in a table format.\n",
        "\n"
      ],
      "metadata": {
        "id": "Zy0ylhzSoSot"
      }
    },
    {
      "cell_type": "markdown",
      "source": [
        "## **3. Creating a Model from the Data**\n",
        "\n",
        "**What is a Data Model?**\n",
        "\n",
        "A data model defines how different datasets relate to each other in Tableau. It ensures accurate calculations, prevents duplicated data, and allows for complex analysis.\n",
        "\n",
        "**Importance of a Data Model**\n",
        "\n",
        "✅ Ensures data integrity and consistency\n",
        "\n",
        "✅ Helps in creating relationships between multiple tables\n",
        "\n",
        "✅ Reduces data redundancy\n",
        "\n",
        "✅ Supports faster queries and performance optimization\n",
        "\n",
        "## **4. Best Practices in Data Modeling**\n",
        "\n",
        "Before building a data model, follow these best practices:\n",
        "\n",
        "✅ **Use Relationships Instead of Joins When Possible**\n",
        "\n",
        "Relationships are more flexible than traditional joins in Tableau 2020.2+.\n",
        "Joins merge datasets at import, while relationships keep them separate and connect them dynamically.\n",
        "\n",
        "✅ **Use the Right Join Type for the Data**\n",
        "\n",
        "- Inner Join: Includes only matching records\n",
        "- Left Join: Keeps all records from the left table and matching ones from the right\n",
        "- Right Join: Keeps all records from the right table and matching ones from the left\n",
        "- Full Outer Join: Includes all records from both tables\n",
        "\n",
        "✅ **Avoid Many-to-Many Relationships**\n",
        "\n",
        "Use bridge tables if necessary to resolve many-to-many joins.\n",
        "\n",
        "✅ **Normalize Data Where Possible**\n",
        "\n",
        "Avoid unnecessary duplication by keeping dimensions and facts separate.\n"
      ],
      "metadata": {
        "id": "9g289o6ApCvA"
      }
    },
    {
      "cell_type": "markdown",
      "source": [
        "# **5. Implementing a Data Model in Tableau**\n",
        "\n",
        "**Step 1: Importing Data**\n",
        "\n",
        "- Go to Data Source View\n",
        "- Load the first dataset (e.g., Sales_Data.xlsx)\n",
        "- Click \"Add\" to Import More Tables\n",
        "\n",
        "**Step 2: Creating Relationships**\n",
        "\n",
        "- Drag and Drop Tables into the model area\n",
        "- Define Relationships:\n",
        "\n",
        " -- Click on the link icon between tables\n",
        "\n",
        " -- Select Key Columns (e.g., Customer_ID in both tables)\n",
        "\n",
        " -- Choose the Relationship Type (One-to-Many or Many-to-One)\n",
        "\n",
        " -- Click OK to save\n",
        "\n",
        "**Step 3: Using the Data Model in a Worksheet**\n",
        "\n",
        "- Go to a New Worksheet\n",
        "- Select Fields from Related Tables\n",
        "- Drag Fields to Rows & Columns\n",
        "- Build Visualizations Using the Model\n",
        "\n",
        "## **Conclusion**\n",
        "\n",
        "Mastering data connections and modeling in Tableau improves analysis efficiency and ensures data is accurate and structured. A well-designed data model helps in complex calculations and makes reports more interactive and scalable.\n",
        "\n",
        "By following best practices, you ensure that your dashboards remain performant and flexible."
      ],
      "metadata": {
        "id": "w-Nl6kLTpfRj"
      }
    }
  ]
}