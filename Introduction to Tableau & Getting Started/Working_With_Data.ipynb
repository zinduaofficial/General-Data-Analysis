{
  "nbformat": 4,
  "nbformat_minor": 0,
  "metadata": {
    "colab": {
      "provenance": []
    },
    "kernelspec": {
      "name": "python3",
      "display_name": "Python 3"
    },
    "language_info": {
      "name": "python"
    }
  },
  "cells": [
    {
      "cell_type": "markdown",
      "source": [
        "# **Working with Data**\n",
        "\n",
        "## **1. Dimensions vs. Measures**\n",
        "\n",
        "**What They Are**\n",
        "\n",
        "- **Dimensions**: Qualitative, categorical, or descriptive fields (e.g., Country, Product Name, Order Date). They slice data into groups.\n",
        "\n",
        "- **Measures**: Quantitative, numerical fields (e.g., Sales, Profit, Quantity). They aggregate data (sum, average, etc.).\n",
        "\n",
        "**Importance**\n",
        "\n",
        "- Dimensions define the \"by\" in analysis (e.g., \"Sales by Region\").\n",
        "\n",
        "- Measures define the \"what\" in analysis (e.g., \"Total Sales\").\n",
        "\n",
        "Tableau automatically categorizes fields as dimensions or measures based on data type, but you can drag fields between the two shelves.\n",
        "\n",
        "**Example**\n",
        "\n",
        "A bar chart showing Sales (Measure) by Product Category (Dimension).\n",
        "\n",
        "**Best Practices**\n",
        "\n",
        "- Use dimensions for grouping, filtering, or coloring marks.\n",
        "\n",
        "- Use measures for axes, sizes, or tooltips.\n",
        "\n",
        "- Convert measures to dimensions (right-click > Convert to Dimension) for non-aggregated comparisons (e.g., plotting individual Profit values).\n",
        "\n",
        "***Visual Suggestion:***\n",
        "\n",
        "Show Tableau’s Data Pane with color-coded dimensions (blue) and measures (green).\n",
        "\n",
        "A bar chart contrasting Sales (measure) vs. Region (dimension).\n",
        "\n"
      ],
      "metadata": {
        "id": "aouxDRc-sB8C"
      }
    },
    {
      "cell_type": "markdown",
      "source": [
        "**How to Identify Dimensions & Measures in Tableau?**\n",
        "\n",
        "- Dimensions are Blue in the Data Pane.\n",
        "- Measures are Green in the Data Pane.\n",
        "\n",
        "Tableau automatically assigns them based on data type, but you can manually change them by dragging between sections."
      ],
      "metadata": {
        "id": "z1_32ozBsbHy"
      }
    },
    {
      "cell_type": "markdown",
      "source": [
        "## **2. Creating New Measures (Calculated Fields)**\n",
        "\n",
        "A Calculated Field allows you to create new values based on existing data using functions and expressions. These are useful for:\n",
        "\n",
        "✅ Custom calculations (e.g., Profit Margin)\n",
        "\n",
        "✅ Conditional logic (e.g., If Sales > 1000, then \"High\")\n",
        "\n",
        "✅ Aggregations (SUM, AVG, COUNT, etc.)\n",
        "\n",
        "**How to Create a Calculated Field in Tableau?**\n",
        "\n",
        "- Go to the Data Pane\n",
        "\n",
        "- Click on the drop-down arrow next to a table\n",
        "\n",
        "- Select \"Create Calculated Field\"\n",
        "\n",
        "- Enter a Name for the Field\n",
        "\n",
        "- Write the Calculation\n",
        "\n",
        "- Click OK\n",
        "\n",
        "**Best Practices**\n",
        "\n",
        "- Use comments (// Comment here) for complex formulas.\n",
        "\n",
        "- Test calculations in a sample worksheet.\n",
        "\n",
        "- Avoid circular dependencies (e.g., referencing the same field in its own formula).\n",
        "\n",
        "**Visual Suggestion:**\n",
        "\n",
        "- Screenshot of Tableau’s calculation editor with a sample formula.\n",
        "\n",
        "- A before/after view of a calculated field in a visualization."
      ],
      "metadata": {
        "id": "GBmzQzkZ8nB-"
      }
    },
    {
      "cell_type": "markdown",
      "source": [
        "# **Basic Calculations in Tableau**\n",
        "\n",
        "## **1. Introduction to Calculated Fields**\n",
        "\n",
        "Calculated fields in Tableau allow you to create new data points based on existing data. They can be used for:\n",
        "\n",
        "- Creating new measures or dimensions\n",
        "- Performing mathematical calculations\n",
        "- Using logical expressions to create custom groups"
      ],
      "metadata": {
        "id": "UTmCDgvT-u40"
      }
    },
    {
      "cell_type": "markdown",
      "source": [
        "## **2. Types of Basic Calculations**"
      ],
      "metadata": {
        "id": "rZh_lVer_Br1"
      }
    },
    {
      "cell_type": "markdown",
      "source": [
        "## **A. Arithmetic Calculations**\n",
        "Used to perform basic mathematical operations on measures.\n",
        "\n",
        "| Operation     | Syntax                 | Example                            |\n",
        "|--------------|------------------------|------------------------------------|\n",
        "| **Addition**    | `[Sales] + [Profit]`    | Sum of Sales and Profit            |\n",
        "| **Subtraction** | `[Sales] - [Discount]`  | Sales after discount               |\n",
        "| **Multiplication** | `[Sales] * 1.2`    | Increase Sales by 20%              |\n",
        "| **Division**   | `[Profit] / [Sales]`   | Profit Margin Calculation          |\n",
        "\n",
        "🔹 **Example: Calculating Total Revenue**\n",
        "```tableau\n",
        "[Sales] + [Shipping Cost]\n"
      ],
      "metadata": {
        "id": "bCJaPpwE_J_m"
      }
    },
    {
      "cell_type": "markdown",
      "source": [
        "## **B. Aggregation Functions**\n",
        "Aggregation functions summarize data at different levels.\n",
        "\n",
        "| Function | Syntax                | Example                      |\n",
        "|----------|-----------------------|------------------------------|\n",
        "| **SUM**   | `SUM([Sales])`         | Total Sales                  |\n",
        "| **AVG**   | `AVG([Profit])`        | Average Profit               |\n",
        "| **COUNT** | `COUNT([Customer ID])` | Count of unique customers    |\n",
        "| **MIN**   | `MIN([Order Date])`    | Earliest order date          |\n",
        "| **MAX**   | `MAX([Order Date])`    | Latest order date            |\n",
        "\n",
        "🔹 **Example: Finding the Average Order Value**\n",
        "```tableau\n",
        "SUM([Sales]) / COUNT([Order ID])\n"
      ],
      "metadata": {
        "id": "bCM1Zsbg_dps"
      }
    },
    {
      "cell_type": "markdown",
      "source": [
        "## **C. Logical Functions**\n",
        "Used to create conditional calculations.\n",
        "\n",
        "| Function | Syntax | Example |\n",
        "|----------|--------|---------|\n",
        "| **IF**   | `IF condition THEN value ELSE value END` | `IF [Sales] > 500 THEN \"High\" ELSE \"Low\" END` |\n",
        "| **IIF**  | `IIF(condition, value1, value2, value_if_null)` | `IIF([Profit] > 0, \"Profitable\", \"Loss\")` |\n",
        "| **CASE** | `CASE [Category] WHEN \"Furniture\" THEN \"High\" ELSE \"Low\" END` | Assigning categories |\n",
        "| **AND**  | `condition1 AND condition2` | `IF [Sales] > 500 AND [Profit] > 50 THEN \"Good\" END` |\n",
        "| **OR**   | `condition1 OR condition2` | `IF [Sales] > 500 OR [Profit] > 50 THEN \"Consider\" END` |\n",
        "\n",
        "🔹 **Example: Classifying Sales Performance**\n",
        "```tableau\n",
        "IF [Sales] > 1000 THEN \"High\"\n",
        "ELSEIF [Sales] > 500 THEN \"Medium\"\n",
        "ELSE \"Low\"\n",
        "END\n"
      ],
      "metadata": {
        "id": "FjEzKsGo_lkt"
      }
    },
    {
      "cell_type": "markdown",
      "source": [
        "## **D. Date Functions**\n",
        "Used for working with date fields.\n",
        "\n",
        "| Function  | Syntax                                           | Example                                      |\n",
        "|-----------|--------------------------------------------------|----------------------------------------------|\n",
        "| **TODAY()** | `TODAY()`                                       | Returns today’s date                         |\n",
        "| **NOW()**   | `NOW()`                                         | Returns the current date & time              |\n",
        "| **YEAR**    | `YEAR([Order Date])`                             | Extracts year from a date                    |\n",
        "| **MONTH**   | `MONTH([Order Date])`                            | Extracts month from a date                   |\n",
        "| **DATEADD** | `DATEADD('month', 1, [Order Date])`              | Adds 1 month to Order Date                   |\n",
        "| **DATEDIFF**| `DATEDIFF('day', [Order Date], TODAY())`         | Days between order date and today            |\n",
        "\n",
        "🔹 **Example: Finding Orders in the Last 30 Days**\n",
        "```tableau\n",
        "DATEDIFF('day', [Order Date], TODAY()) <= 30\n"
      ],
      "metadata": {
        "id": "NXflGrNz_yRV"
      }
    },
    {
      "cell_type": "markdown",
      "source": [
        "## **E. String Functions**\n",
        "Used for text manipulation.\n",
        "\n",
        "| Function  | Syntax                                           | Example                                    |\n",
        "|-----------|--------------------------------------------------|--------------------------------------------|\n",
        "| **LEFT**  | `LEFT([Product Name], 5)`                        | First 5 characters                         |\n",
        "| **RIGHT** | `RIGHT([Product Name], 3)`                       | Last 3 characters                          |\n",
        "| **MID**   | `MID([Product Name], 2, 4)`                      | Extracts 4 characters from position 2      |\n",
        "| **LEN**   | `LEN([Customer Name])`                           | Length of a string                         |\n",
        "| **FIND**  | `FIND([Product Name], \"Table\")`                   | Finds position of \"Table\" in Product Name |\n",
        "| **CONCAT**| `[First Name] + \" \" + [Last Name]`               | Combines names                             |\n",
        "\n",
        "🔹 **Example: Extracting First Name from Full Name**\n",
        "```tableau\n",
        "LEFT([Customer Name], FIND([Customer Name], \" \") - 1)\n"
      ],
      "metadata": {
        "id": "4U8Ng8eU_-B-"
      }
    }
  ]
}