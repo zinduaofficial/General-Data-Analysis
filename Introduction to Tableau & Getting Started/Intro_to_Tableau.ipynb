{
  "nbformat": 4,
  "nbformat_minor": 0,
  "metadata": {
    "colab": {
      "provenance": []
    },
    "kernelspec": {
      "name": "python3",
      "display_name": "Python 3"
    },
    "language_info": {
      "name": "python"
    }
  },
  "cells": [
    {
      "cell_type": "markdown",
      "source": [
        "# **1. Introduction to Tableau**"
      ],
      "metadata": {
        "id": "Gh5W4HGiKUDe"
      }
    },
    {
      "cell_type": "markdown",
      "source": [
        "### **1.1 What is Tableau?**\n",
        "\n",
        "Tableau is a data visualization tool that transforms raw data into interactive, shareable dashboards. Unlike static spreadsheets, Tableau lets you:\n",
        "\n",
        "- **Explore data visually** with drag-and-drop charts.\n",
        "- **Connect to diverse sources** (Excel, SQL, cloud databases).\n",
        "- **Uncover trends** through real-time analytics.\n",
        "\n",
        "**Example**: A retail manager uses Tableau to visualize sales trends and identify underperforming regions."
      ],
      "metadata": {
        "id": "-lyaLBVwKYvG"
      }
    },
    {
      "cell_type": "markdown",
      "source": [
        "### **1.2 Key Features**\n",
        "\n",
        "1. **Drag-and-Drop Interface**: Build charts without coding.\n",
        "    - *Try This*: Drag \"Sales\" to Rows and \"Region\" to Columns to create a bar chart.\n",
        "2. **Real-Time Collaboration**: Share dashboards via Tableau Server/Online.\n",
        "3. **Advanced Calculations**: Create metrics like `Profit Margin = SUM([Profit])/SUM([Sales])`."
      ],
      "metadata": {
        "id": "CXjqbTEjKcHO"
      }
    },
    {
      "cell_type": "markdown",
      "source": [
        "### **1.3 Installation & Setup**\n",
        "\n",
        "**Step-by-Step**:\n",
        "\n",
        "1. Download [Tableau Public](https://public.tableau.com/) (free) or [Desktop Trial](https://www.tableau.com/products/desktop).\n",
        "2. Run the installer and follow prompts.\n",
        "3. Launch Tableau and select \"Start Free Trial\" (Desktop) or skip (Public).\n",
        "\n",
        "**Common Issues**:\n",
        "\n",
        "- *Error: \"Unable to connect to license server\"* → Ensure internet connectivity during activation."
      ],
      "metadata": {
        "id": "ngMpQn1EKgpn"
      }
    },
    {
      "cell_type": "markdown",
      "source": [
        "### **Interface Layout**"
      ],
      "metadata": {
        "id": "XcpAHV3TKsL9"
      }
    },
    {
      "cell_type": "markdown",
      "source": [
        "![interface](https://jason-khu.com/wp-content/uploads/2022/10/1-1024x640.png)\n",
        "\n",
        "![interface](https://jason-khu.com/wp-content/uploads/2022/10/2-1024x640.png)\n",
        "\n",
        "![interface](https://jason-khu.com/wp-content/uploads/2022/10/3-1024x640.png)"
      ],
      "metadata": {
        "id": "RzKgMXddLnUW"
      }
    },
    {
      "cell_type": "markdown",
      "source": [
        "1. **Data Pane**: Lists fields from your dataset (e.g., \"Sales,\" \"Region\").\n",
        "    - **Dimensions** (blue): Qualitative data (e.g., categories, dates).\n",
        "    - **Measures** (green): Quantitative data (e.g., sales, profit).\n",
        "2. **Shelves**:\n",
        "    - **Columns/Rows**: Define chart axes.\n",
        "    - **Marks Card**: Customize color, size, labels.\n",
        "3. **Sheets**: Switch between worksheets, dashboards, and stories."
      ],
      "metadata": {
        "id": "K_YGNwZbNCy4"
      }
    }
  ]
}